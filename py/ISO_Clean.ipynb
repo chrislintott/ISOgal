{
 "cells": [
  {
   "cell_type": "code",
   "execution_count": 21,
   "metadata": {},
   "outputs": [],
   "source": [
    "from astropy.table import Table\n",
    "from astropy.io import ascii\n",
    "import pandas\n",
    "import astropy.units as u\n",
    "import numpy as np\n",
    "import matplotlib\n",
    "import matplotlib.pyplot as plt\n",
    "from astropy.modeling import models, fitting\n",
    "import scipy.stats as stats"
   ]
  },
  {
   "cell_type": "code",
   "execution_count": null,
   "metadata": {},
   "outputs": [],
   "source": [
    "# Start by reading in data from BB20 model of protoplanetary composition. "
   ]
  },
  {
   "cell_type": "code",
   "execution_count": 2,
   "metadata": {},
   "outputs": [
    {
     "name": "stdout",
     "output_type": "stream",
     "text": [
      "Fe_H  Fe3O4_top    FeS_top   ... Fe2O3_bottom MgSiO3_bottom     H20    \n",
      "---- ----------- ----------- ... ------------ ------------- -----------\n",
      "-0.3 0.101077057 0.196159024 ...   0.05451802   0.152905112  0.48193737\n",
      "-0.2 0.108711491 0.192318049 ...   0.06226184   0.152584418 0.438068289\n",
      "-0.1 0.114706581 0.188492912 ...   0.06838804   0.147425014 0.405484814\n",
      " 0.0  0.12071751 0.187930625 ...   0.07613186    0.16000283  0.35032541\n",
      " 0.1 0.120155223 0.187368338 ...   0.08226278   0.161295039 0.287096774\n",
      " 0.2 0.121248119 0.188429556 ...    0.0883937   0.162582532 0.214195435\n",
      " 0.3  0.11575196  0.19280114 ...   0.09129881   0.178395586 0.152584418\n",
      " 0.4 0.116844856 0.188976004 ...   0.10065082    0.16032824 0.066779853\n"
     ]
    }
   ],
   "source": [
    "BBmodel = ascii.read(\"./BitschFig10/Combineddata.csv\",data_start=2)\n",
    "BBmodel.rename_column('\\ufeffFe_H', 'Fe_H')\n",
    "print(BBmodel)"
   ]
  },
  {
   "cell_type": "code",
   "execution_count": 3,
   "metadata": {},
   "outputs": [
    {
     "data": {
      "text/html": [
       "<i>Table length=8</i>\n",
       "<table id=\"table140216263241040\" class=\"table-striped table-bordered table-condensed\">\n",
       "<thead><tr><th>Fe_H</th><th>Fe3O4_top</th><th>FeS_top</th><th>Mg2SiO4_top</th><th>Fe2_O3_top</th><th>MgSiO3_top</th><th>Fe3O4_bottom</th><th>FeS_bottom</th><th>Mg2SiO4_bottom</th><th>Fe2O3_bottom</th><th>MgSiO3_bottom</th><th>H20</th></tr></thead>\n",
       "<thead><tr><th>float64</th><th>float64</th><th>float64</th><th>float64</th><th>float64</th><th>float64</th><th>float64</th><th>float64</th><th>float64</th><th>float64</th><th>float64</th><th>float64</th></tr></thead>\n",
       "<tr><td>-0.3</td><td>0.101077057</td><td>0.196159024</td><td>0.324027877</td><td>0.104355746</td><td>0.301092896</td><td>0.054518015</td><td>0.099679306</td><td>0.164195435</td><td>0.05451802</td><td>0.152905112</td><td>0.48193737</td></tr>\n",
       "<tr><td>-0.2</td><td>0.108711491</td><td>0.192318049</td><td>0.341498376</td><td>0.112006019</td><td>0.27756395</td><td>0.060644218</td><td>0.105810224</td><td>0.186455386</td><td>0.06226184</td><td>0.152584418</td><td>0.438068289</td></tr>\n",
       "<tr><td>-0.1</td><td>0.114706581</td><td>0.188492912</td><td>0.358968876</td><td>0.119640453</td><td>0.255706027</td><td>0.06838804</td><td>0.108715337</td><td>0.205484814</td><td>0.06838804</td><td>0.147425014</td><td>0.405484814</td></tr>\n",
       "<tr><td>0.0</td><td>0.12071751</td><td>0.187930625</td><td>0.35514374</td><td>0.122356854</td><td>0.25514374</td><td>0.076131862</td><td>0.118067346</td><td>0.222906055</td><td>0.07613186</td><td>0.16000283</td><td>0.35032541</td></tr>\n",
       "<tr><td>0.1</td><td>0.120155223</td><td>0.187368338</td><td>0.379171616</td><td>0.123433911</td><td>0.236548666</td><td>0.080649877</td><td>0.127424071</td><td>0.259682135</td><td>0.08226278</td><td>0.161295039</td><td>0.287096774</td></tr>\n",
       "<tr><td>0.2</td><td>0.121248119</td><td>0.188429556</td><td>0.401575988</td><td>0.124510969</td><td>0.219608775</td><td>0.088393699</td><td>0.138393699</td><td>0.302909828</td><td>0.0883937</td><td>0.162582532</td><td>0.214195435</td></tr>\n",
       "<tr><td>0.3</td><td>0.11575196</td><td>0.19280114</td><td>0.410849766</td><td>0.119046488</td><td>0.222309337</td><td>0.088068289</td><td>0.150976231</td><td>0.331621392</td><td>0.09129881</td><td>0.178395586</td><td>0.152584418</td></tr>\n",
       "<tr><td>0.4</td><td>0.116844856</td><td>0.188976004</td><td>0.451271086</td><td>0.120123545</td><td>0.184057971</td><td>0.097425014</td><td>0.16516695</td><td>0.403876627</td><td>0.10065082</td><td>0.16032824</td><td>0.066779853</td></tr>\n",
       "</table>"
      ],
      "text/plain": [
       "<Table length=8>\n",
       "  Fe_H   Fe3O4_top    FeS_top   ... Fe2O3_bottom MgSiO3_bottom     H20    \n",
       "float64   float64     float64   ...   float64       float64      float64  \n",
       "------- ----------- ----------- ... ------------ ------------- -----------\n",
       "   -0.3 0.101077057 0.196159024 ...   0.05451802   0.152905112  0.48193737\n",
       "   -0.2 0.108711491 0.192318049 ...   0.06226184   0.152584418 0.438068289\n",
       "   -0.1 0.114706581 0.188492912 ...   0.06838804   0.147425014 0.405484814\n",
       "    0.0  0.12071751 0.187930625 ...   0.07613186    0.16000283  0.35032541\n",
       "    0.1 0.120155223 0.187368338 ...   0.08226278   0.161295039 0.287096774\n",
       "    0.2 0.121248119 0.188429556 ...    0.0883937   0.162582532 0.214195435\n",
       "    0.3  0.11575196  0.19280114 ...   0.09129881   0.178395586 0.152584418\n",
       "    0.4 0.116844856 0.188976004 ...   0.10065082    0.16032824 0.066779853"
      ]
     },
     "execution_count": 3,
     "metadata": {},
     "output_type": "execute_result"
    }
   ],
   "source": [
    "Comp = Table(BBmodel)\n",
    "Comp"
   ]
  },
  {
   "cell_type": "code",
   "execution_count": 4,
   "metadata": {},
   "outputs": [
    {
     "data": {
      "text/plain": [
       "<matplotlib.collections.PathCollection at 0x7f86a4a6ef50>"
      ]
     },
     "execution_count": 4,
     "metadata": {},
     "output_type": "execute_result"
    },
    {
     "data": {
      "image/png": "[encoded data removed]",
      "text/plain": [
       "<Figure size 432x288 with 1 Axes>"
      ]
     },
     "metadata": {
      "needs_background": "light"
     },
     "output_type": "display_data"
    }
   ],
   "source": [
    "plt.scatter(BBmodel['Fe_H'],BBmodel['H20'])"
   ]
  },
  {
   "cell_type": "code",
   "execution_count": 5,
   "metadata": {},
   "outputs": [
    {
     "name": "stdout",
     "output_type": "stream",
     "text": [
      "Model: Polynomial1D\n",
      "Inputs: ('x',)\n",
      "Outputs: ('y',)\n",
      "Model set size: 1\n",
      "Degree: 3\n",
      "Parameters:\n",
      "            c0                  c1                  c2                  c3        \n",
      "    ------------------ ------------------- ------------------- -------------------\n",
      "    0.3480026126904762 -0.5659026289285716 -0.3847110642857163 0.12633408333333815\n"
     ]
    }
   ],
   "source": [
    "# Now interpolate between points\n",
    "\n",
    "model_poly = models.Polynomial1D(degree=3)\n",
    "fitter_poly = fitting.LinearLSQFitter()\n",
    "best_fit_poly = fitter_poly(model_poly, BBmodel['Fe_H'],BBmodel['H20'])\n",
    "\n",
    "print(best_fit_poly)"
   ]
  },
  {
   "cell_type": "code",
   "execution_count": 6,
   "metadata": {},
   "outputs": [
    {
     "data": {
      "text/plain": [
       "[<matplotlib.lines.Line2D at 0x7f86a4abe610>]"
      ]
     },
     "execution_count": 6,
     "metadata": {},
     "output_type": "execute_result"
    },
    {
     "data": {
      "image/png": "[encoded data removed]",
      "text/plain": [
       "<Figure size 432x288 with 1 Axes>"
      ]
     },
     "metadata": {
      "needs_background": "light"
     },
     "output_type": "display_data"
    }
   ],
   "source": [
    "plt.errorbar(BBmodel['Fe_H'],BBmodel['H20'], fmt='k.')\n",
    "plt.plot(BBmodel['Fe_H'],best_fit_poly(BBmodel['Fe_H']),color='r', linewidth=3)"
   ]
  },
  {
   "cell_type": "code",
   "execution_count": 10,
   "metadata": {},
   "outputs": [],
   "source": [
    "# Now read in fiducal MW model. \n",
    "# 17th Friends-of-Friends group in the Reference model 25Mpc simulation, hence FOF17_Ref-L025N376.dat\n",
    "\n",
    "Tedmodel = ascii.read(\"EAGLE_MW_L0025N0376_REFERENCE_ApogeeRun_30kpc_working.dat\",data_start=2)"
   ]
  },
  {
   "cell_type": "code",
   "execution_count": 13,
   "metadata": {},
   "outputs": [],
   "source": [
    "# Clean up model, assuming lowest metallicity star particles don't contribute. \n",
    "\n",
    "from astropy.table import Table, Column, MaskedColumn\n",
    "Tedmodel = Table(Tedmodel, masked=True, copy=False)\n",
    "\n",
    "cleanmodel=Tedmodel[Tedmodel['fe_h'] > -3.0]"
   ]
  },
  {
   "cell_type": "code",
   "execution_count": 15,
   "metadata": {},
   "outputs": [
    {
     "data": {
      "text/plain": [
       "<ErrorbarContainer object of 3 artists>"
      ]
     },
     "execution_count": 15,
     "metadata": {},
     "output_type": "execute_result"
    },
    {
     "data": {
      "image/png": "[encoded data removed]",
      "text/plain": [
       "<Figure size 432x288 with 1 Axes>"
      ]
     },
     "metadata": {
      "needs_background": "light"
     },
     "output_type": "display_data"
    }
   ],
   "source": [
    "Water = best_fit_poly(cleanmodel['fe_h'])\n",
    "cleanmodel['Water'] = Water\n",
    "plt.errorbar(cleanmodel['fe_h'],cleanmodel['Water'], fmt='k.')"
   ]
  },
  {
   "cell_type": "code",
   "execution_count": 18,
   "metadata": {},
   "outputs": [],
   "source": [
    "#Set minimum water content at 5%. This is completely arbritary, and corresponds to extrapolating beyond the limits of the BB20 model.\n",
    "\n",
    "Minwater=cleanmodel['Water']\n",
    "\n",
    "for nrow in range(0,len(cleanmodel)-1):\n",
    "       Minwater[nrow]=np.where(cleanmodel['Water'][nrow]<0.05,0.05,cleanmodel['Water'][nrow])\n",
    "\n",
    "# Minwater.info('stats')\n",
    "\n",
    "cleanmodel['MinWater']=Minwater "
   ]
  },
  {
   "cell_type": "code",
   "execution_count": 23,
   "metadata": {},
   "outputs": [
    {
     "data": {
      "text/plain": [
       "<matplotlib.collections.LineCollection at 0x7f868b123310>"
      ]
     },
     "execution_count": 23,
     "metadata": {},
     "output_type": "execute_result"
    },
    {
     "data": {
      "image/png": "[encoded data removed]",
      "text/plain": [
       "<Figure size 432x288 with 1 Axes>"
      ]
     },
     "metadata": {
      "needs_background": "light"
     },
     "output_type": "display_data"
    }
   ],
   "source": [
    "#Calculate mass fraction and plot\n",
    "\n",
    "massdist, bin_edges, binnumber = stats.binned_statistic(cleanmodel['MinWater'],cleanmodel['mass'], 'sum', bins=50)\n",
    "\n",
    "# print(massdist)\n",
    "\n",
    "tmp = np.sum(massdist)\n",
    "\n",
    "massdist = massdist/tmp\n",
    "\n",
    "#print(massdist)\n",
    "\n",
    "#print(np.sum(massdist))\n",
    "\n",
    "#print(bin_edges)\n",
    "\n",
    "plt.figure()\n",
    "plt.xlabel('f_{H_2O}')\n",
    "plt.ylabel('N_ISO')\n",
    "plt.hlines(massdist,bin_edges[:-1],bin_edges[1:])"
   ]
  },
  {
   "cell_type": "code",
   "execution_count": null,
   "metadata": {},
   "outputs": [],
   "source": [
    "#Now sp"
   ]
  }
 ],
 "metadata": {
  "kernelspec": {
   "display_name": "Python 3",
   "language": "python",
   "name": "python3"
  },
  "language_info": {
   "codemirror_mode": {
    "name": "ipython",
    "version": 3
   },
   "file_extension": ".py",
   "mimetype": "text/x-python",
   "name": "python",
   "nbconvert_exporter": "python",
   "pygments_lexer": "ipython3",
   "version": "3.7.6"
  }
 },
 "nbformat": 4,
 "nbformat_minor": 4
}
